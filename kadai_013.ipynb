{
  "nbformat": 4,
  "nbformat_minor": 0,
  "metadata": {
    "colab": {
      "provenance": []
    },
    "kernelspec": {
      "name": "python3",
      "display_name": "Python 3"
    },
    "language_info": {
      "name": "python"
    }
  },
  "cells": [
    {
      "cell_type": "code",
      "execution_count": 24,
      "metadata": {
        "colab": {
          "base_uri": "https://localhost:8080/"
        },
        "id": "RDpiRGrrhL6w",
        "outputId": "474cf475-4147-45b4-aafa-d795d8e223ef"
      },
      "outputs": [
        {
          "output_type": "stream",
          "name": "stdout",
          "text": [
            "110.0円\n"
          ]
        }
      ],
      "source": [
        "\n",
        "purchased = True\n",
        "\n",
        "def is_purchased():\n",
        "  if (purchased):\n",
        "    return True\n",
        "  else:\n",
        "    return Fales\n",
        "\n",
        "def add_two_arguments(price, tax):\n",
        "  tax = price * 0.1\n",
        "  total = price + tax\n",
        "\n",
        "  if (is_purchased()):\n",
        "    print(f\"{total}円\")\n",
        "\n",
        "add_two_arguments(100, 10);\n",
        "\n",
        "\n"
      ]
    }
  ]
}