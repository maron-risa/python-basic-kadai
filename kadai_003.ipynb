{
  "nbformat": 4,
  "nbformat_minor": 0,
  "metadata": {
    "colab": {
      "provenance": []
    },
    "kernelspec": {
      "name": "python3",
      "display_name": "Python 3"
    },
    "language_info": {
      "name": "python"
    }
  },
  "cells": [
    {
      "cell_type": "code",
      "execution_count": 2,
      "metadata": {
        "colab": {
          "base_uri": "https://localhost:8080/"
        },
        "id": "lX2GCdeqiifP",
        "outputId": "ae98779f-978f-45b8-994f-c6780d6bf1ef"
      },
      "outputs": [
        {
          "output_type": "execute_result",
          "data": {
            "text/plain": [
              "array([[ 4,  5,  6,  7],\n",
              "       [12, 17, 22, 27],\n",
              "       [20, 29, 38, 47]])"
            ]
          },
          "metadata": {},
          "execution_count": 2
        }
      ],
      "source": [
        "import numpy as np\n",
        "A = np.array([[0, 1],[2, 3],[4, 5]])\n",
        "B = np.array([[0, 1, 2, 3],[4, 5, 6, 7]])\n",
        "AB = np.dot(A, B)\n",
        "AB"
      ]
    },
    {
      "cell_type": "code",
      "source": [
        "AB.max()"
      ],
      "metadata": {
        "colab": {
          "base_uri": "https://localhost:8080/"
        },
        "id": "EOPFmo4dl3Jq",
        "outputId": "005148e8-d1d9-48a2-b4d6-25d5bc687675"
      },
      "execution_count": 4,
      "outputs": [
        {
          "output_type": "execute_result",
          "data": {
            "text/plain": [
              "47"
            ]
          },
          "metadata": {},
          "execution_count": 4
        }
      ]
    }
  ]
}